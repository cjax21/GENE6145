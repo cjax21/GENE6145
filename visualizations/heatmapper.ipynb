{
 "cells": [
  {
   "cell_type": "code",
   "execution_count": null,
   "metadata": {},
   "outputs": [],
   "source": [
    "import pandas as pd\n",
    "import seaborn as sb\n",
    "import matplotlib.pyplot as plt\n",
    "\n",
    "from data_source import train_rows.csv\n",
    "\n",
    "Data = pd.read_csv(filepath + \"train_rows.csv\", sep=\"\\t\")\n",
    "Data\n",
    "\n",
    "def Assign_ageGroup(age):\n",
    "    if age >= 18 and age <= 34:\n",
    "        return 'Adult'\n",
    "    elif age >= 35 and age <= 54:\n",
    "        return 'Middle-aged'\n",
    "    elif age >= 55 and age <= 69:\n",
    "        return 'Elderly'\n",
    "    else:\n",
    "        return 'Unknown'\n",
    "\n",
    "Data['Age Group'] = Data['Age'].apply(Assign_ageGroup)\n",
    "Data = Data.drop(['Age'], axis=1)\n",
    "Data.set_index('Age Group', inplace=True)\n",
    "genes = Data.iloc[:, :13]\n",
    "Data_pivot = Data.pivot_table(index='Age Group')\n",
    "\n",
    "# Reorder the rows by age group\n",
    "Data_pivot = Data.pivot_table(index='Age Group')\n",
    "\n",
    "age_order = ['Adult', 'Middle-aged', 'Elderly']\n",
    "Data_pivot = Data_pivot.reindex(age_order)\n",
    "\n",
    "\n",
    "#Create the heatmap and sets color to be colorblind friendly\n",
    "HTMP = sb.heatmap(Data_pivot, cmap='viridis', cbar_kws={'label': 'Expression (FPKM)', 'shrink': 0.75})\n",
    "\n",
    "xticklabels = HTMP.get_xticklabels()\n",
    "yticklabels = HTMP.get_yticklabels()\n",
    "\n",
    "#Bold the genes of interest (ELOVL2_6, RPA2_3, and KLF14_2) \n",
    "for i, label in enumerate(xticklabels):\n",
    "    if label.get_text() in ['ELOVL2_6', 'RPA2_3', 'KLF14_2']:\n",
    "        label.set_weight('bold')\n",
    "\n",
    "#Set the axis labels\n",
    "HTMP.set_xticklabels(xticklabels, rotation=90)\n",
    "HTMP.set_yticklabels(yticklabels, rotation=0)\n",
    "\n",
    "\n",
    "plt.show()"
   ]
  }
 ],
 "metadata": {
  "language_info": {
   "name": "python"
  },
  "orig_nbformat": 4
 },
 "nbformat": 4,
 "nbformat_minor": 2
}
